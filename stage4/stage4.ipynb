{
 "metadata": {
  "language_info": {
   "codemirror_mode": {
    "name": "ipython",
    "version": 3
   },
   "file_extension": ".py",
   "mimetype": "text/x-python",
   "name": "python",
   "nbconvert_exporter": "python",
   "pygments_lexer": "ipython3",
   "version": 3
  },
  "orig_nbformat": 2
 },
 "nbformat": 4,
 "nbformat_minor": 2,
 "cells": [
  {
   "source": [
    "# Stage 4\n",
    "\n",
    "## 1. Consider applying 3D visualisation and VR/AR/MR techniques. Draw your ideas on paper or digital surface and add the image to your project assets.\n",
    "\n",
    "The data we are using is best represented in a 2D enviroment, 3D doesn't \n",
    "make sence. Although an AR setup could be implemented, where the user could \n",
    "use the prediction algorithm to base his next decission in realtime. \n",
    "We have visualized how it might work. A personh would sit with AR glasses \n",
    "and select a prediction, based on the prediction model, for a specific \n",
    "cryptocoin. \n",
    "And also relevant data would be displayed such as the \"risk\" value and the \n",
    "change in value that is predicted. \n",
    "\n",
    "An example of an AR implementation can be seen here: <br>\n",
    "\n",
    "![AR prediction image](./AR_Prediction.png \"AR Prediction\")\n",
    "\n",
    "\n",
    "## 2. Elaborate on the benefits of applying better visualisation techniques for data analytics.\n",
    "\n",
    "Most humans are visual creatures and have evolved to react to visual \n",
    "information a better visualization, gives a human being a better chance of \n",
    "analyzing the data. In the same way that a houseplan is better understod with \n",
    "a sketch and the meassures of the house.\n",
    "Now in our dataset a 2D graph is sufficient, due to the data being 2D (time \n",
    "and value). But if there is a dataset with 3 values it is quite hard to \n",
    "visualize the relation of all 3 values when confined to a 2D space, \n",
    "you could find that a datapoint is quite far away from a speciffic cluster \n",
    "of datapoints in one plane but in another plane the datapoint seems like it \n",
    "is in the center of the cluster. Just like the brightest star in the night \n",
    "sky is not necessarily the closest.\n",
    "In a 3D space it would be possible to see the datapoints relations on all 3 \n",
    "axis, thus allowing for a better visual perspective."
   ],
   "cell_type": "markdown",
   "metadata": {}
  }
 ]
}