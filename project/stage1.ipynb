{
 "metadata": {
  "language_info": {
   "codemirror_mode": {
    "name": "ipython",
    "version": 3
   },
   "file_extension": ".py",
   "mimetype": "text/x-python",
   "name": "python",
   "nbconvert_exporter": "python",
   "pygments_lexer": "ipython3",
   "version": 3
  },
  "orig_nbformat": 2
 },
 "nbformat": 4,
 "nbformat_minor": 2,
 "cells": [
  {
   "source": [
    "# Stage 1\n",
    "\n",
    "## Collect ideas and define a business or social domain, where data science can bring a value\n",
    "We want to explore data from cryptocurrencies. \n",
    "We want to find, use and predict their values and maybe do a comparisson of multiple coins."
   ],
   "cell_type": "markdown",
   "metadata": {}
  },
  {
   "source": [
    "## Ideas from searching the web \n",
    "comparisson of the coins by: \n",
    "\n",
    "- Increase in percent over a given time (recent time)\n",
    "\n",
    "- How many coins can you buy for 1000$\n",
    "\n",
    "- How much money could we have gained if we bought the coins a while ago\n",
    "\n",
    "SOURCE: https://towardsdatascience.com/cryptocurrency-analysis-with-python-buy-and-hold-c3b0bc164ffa"
   ],
   "cell_type": "markdown",
   "metadata": {}
  },
  {
   "source": [
    "## Formulate context, purpose, questions, and hypotheses for data science experiment\n",
    "### Context \n",
    "We want to explore a selection of cryptocurrencies and their respective value change over time.\n",
    "\n",
    "### Purpose\n",
    "- Show how much they can change over short amounts of time\n",
    "- Show their change in value over time compared to a real currency\n",
    "- Try to create a formula to predict their values given a date in the future \n",
    "(we expect a large error margin, caused by their extreme swings, but maybe we can predict short amounts of time in the future)\n",
    "\n",
    "### questions\n",
    "- What is the maximun change happend over a month period for the cryptocurrencies (Doge Coin, Etherium, Bitcoin)?\n",
    "- How has the cryptocurrency values changed compared to USD (Real United State Dollars)?\n",
    "- How will the cryptocurrencies change their values in the future? \n",
    "- What is the margin of error in our predictions? \n",
    "\n",
    "### hypotheses    \n",
    "__H0-0:__ - Cryptocurrencies are unpredictable (due to rapid changes and seemingly unpredictable behavior (in graphs/plots))\n",
    "\n",
    "__H1-0:__ - Cryptocurrencies are predictable\n",
    "<br><br><br>\n",
    "__H0-1:__ Cryptocurrencies follow the values of Real currencies\n",
    "\n",
    "__H1-1:__ Cryptocurrencies do not follow the values of Real currencies\n"
   ],
   "cell_type": "markdown",
   "metadata": {}
  },
  {
   "source": [
    "## Technology\n",
    "### Select and install software tools and development enviroments\n",
    "\n",
    "We've selected to use LaTeX, Python (3) (with multiple libraries), Python notebook and  Visual Studio Code (IDE). \n",
    "\n",
    "We've installed all these software products and integrated them with Visual Studio Code.  \n",
    "\n",
    "### Create a github repository, witch will host all project components during all stages of the development and implementaiton process\n",
    "- done\n",
    "\n",
    "### Create and upload a .md file as an initial release of the project, witch contains brief annotaion of your ideas, in minimum four sentences, telling:\n",
    "#### 1. what is the focus of your interest?\n",
    "Predictions of future cryptocurrency values.\n",
    "\n",
    "#### 2. Why is it interesting?\n",
    "This topic is interesting in perticular, because cryptocurrency has been a \"hot topic\" since Bitcoin had a major increase in value back in 2016-2017. Cryptocurrencies was partly made popular by Elon Musk who is a big advocate for this type of currency.\n",
    "We find the topic interesting due to the fact that it looks relatively unpredictable, and if we are able (with a relatively small margin of error) to predict it's future value, we will be able to make a lot of money off of this reseach. Either by using the prediction ourselves or sell access to our predictions.\n",
    "\n",
    "#### 3. Witch outcome do you expect from your research?\n",
    "We expect to find that we are able to predict it's value in the near future. But that the margin of error will be too big for far future predictions.\n",
    "\n",
    "#### 4. who may be a user of the results? \n",
    "People who invest or plan to invest in cryptocurrencies, can use the results of this research.\n",
    "We also expect that other people can use it as a base for their cryptocurrency research in the future. Saving them a lot of steps towards their results. \n",
    "\n",
    "\n",
    "#### Answers to these questions can also be found in the root of this github repository (README.md). \n"
   ],
   "cell_type": "markdown",
   "metadata": {}
  }
 ]
}