{
 "metadata": {
  "language_info": {
   "codemirror_mode": {
    "name": "ipython",
    "version": 3
   },
   "file_extension": ".py",
   "mimetype": "text/x-python",
   "name": "python",
   "nbconvert_exporter": "python",
   "pygments_lexer": "ipython3",
   "version": 3
  },
  "orig_nbformat": 2
 },
 "nbformat": 4,
 "nbformat_minor": 2,
 "cells": [
  {
   "source": [
    "# Stage 3\n",
    "\n",
    "## 1. We have chosen to go with a RNN (Recurring Neural Network). \n",
    "We will setup two different setups to see which will get the best result <br>\n",
    "One will be Tensorflow with LSTM  (Long short term memory) ML using Tensorflow <br>\n",
    "Another witch only Dense layers <br>\n",
    "And then again using a different setup of LSTM <br>\n",
    "\n",
    "## 2. Can be found in  \n",
    "`/preprocessing/cos_predict_usd_lstm.ipynb`\n",
    "`/preprocessing/cos_predict_usd.ipynb`\n",
    "`/preprocessing/bitcoin_predicter.ipynb`\n",
    "`/preprocessing/BitCoin_Mo_predicter.ipynb`\n",
    "\n",
    "## 3. Can be found in `/preprocessing/cos_predict_usd_lstm.ipynb`\n",
    "\n",
    "## 4. comming soon\n",
    "\n",
    "## 5. this is where it is ;)\n"
   ],
   "cell_type": "markdown",
   "metadata": {}
  }
 ]
}