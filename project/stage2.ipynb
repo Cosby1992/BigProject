{
 "metadata": {
  "language_info": {
   "codemirror_mode": {
    "name": "ipython",
    "version": 3
   },
   "file_extension": ".py",
   "mimetype": "text/x-python",
   "name": "python",
   "nbconvert_exporter": "python",
   "pygments_lexer": "ipython3",
   "version": 3
  },
  "orig_nbformat": 2
 },
 "nbformat": 4,
 "nbformat_minor": 2,
 "cells": [
  {
   "source": [
    "# Stage 2\n",
    "\n",
    "## Search internet and other media, find relevant data sources that can be used in your experiment\n",
    "We found this article that scratches the surface of the subject: \n",
    "https://towardsdatascience.com/cryptocurrency-analysis-with-python-buy-and-hold-c3b0bc164ffa\n",
    "\n",
    "We found a source of data on cryptocurrencies here: \n",
    "https://coinmetrics.io/community-network-data/\n",
    "(DogeCoin, Etherium, Bitcoin downloaded in data folder)\n",
    "And new sources with high, low, open, close here (new DOGE data unavailable here)\n",
    "https://www.cryptodatadownload.com/data/binance/\n",
    "\n",
    "We found a source of data for the US dollar index here: \n",
    "https://www.wsj.com/market-data/quotes/index/DXY/historical-prices\n",
    "(data is in data folder)\n",
    "\n",
    "Extra information: \n",
    "https://opendata.stackexchange.com/questions/6884/cryptocurrency-historical-prices\n",
    "https://towardsdatascience.com/data-science-simplified-hypothesis-testing-56e180ef2f71\n",
    "https://dolcikey.medium.com/hypothesis-writing-and-interpretation-for-data-science-explained-d3c6a5236cd6\n",
    "https://towardsdatascience.com/using-lstms-for-stock-market-predictions-tensorflow-9e83999d4653"
   ],
   "cell_type": "markdown",
   "metadata": {}
  },
  {
   "source": [
    "## 2. Integrate the sources in a shared repository by either ETL or ELT process\n",
    "We've chosen to use ELT (Extract, Load, Transform). The reason for this is, \n",
    "that we have relatively neat data in CSV format extracted from the websites."
   ],
   "cell_type": "markdown",
   "metadata": {}
  },
  {
   "source": [
    "## Design a data story or data processing scenario\n",
    "### a. Decide on data processing parameters and methods\n",
    "__Parameters:__ \n",
    "- To explore the cryptocurrency data, we will use the values: Date, and the values of the currencies: Open, High, Low, Close\n",
    "- We will use all the available dates from the data, since there is only NaN values in the beginning of the data rows. \n",
    "- We will clean these dates from our data. Then we plan on using all available data for each of the currencies to build \n",
    "and train the recurrent neural network (RNN).\n",
    "\n",
    "__Methods:__ \n",
    "- To predict the prices of the cryptocurrency we will try to implement a LSTM (Long short-term memory) recurrent neural network (RNN). \n",
    "- Afterward we will use a Mean Squared Error (MSE) method, to calculate the margin of error on our model. \n",
    "\n",
    "### b. Choose data visualization techniques\n",
    "To show the maximum change over time, we will show a plot with a complete graph of the currency and then draw vertical lines to show the high and low values. <br>\n",
    "To show how the values has changed compared to the USD, we will collect all the currencies in a plot showing how they compare. <br>\n",
    "To show a prediction we will make a line plot showing future predictions, made by our machine learning model. <br>\n",
    "\n",
    "### c. Create visual representations\n",
    "Can be found in the `pre-processing` folder in the `elt.ipynb` which is a python notebook\n",
    "\n",
    "### d. Create dashboards\n",
    "- We did not really understand this task ////////////////// OBS HERE ////////////////////////\n",
    "\n",
    "### e. Create a first prototype of data story\n",
    "First we find our data (we are using cryptometrics for cryptocurrency data) <br>\n",
    "Then we extract what we need and \"clean\" the data <br>\n",
    "Then we explore the data by visualizing the data <br>\n",
    "We answer the first few questions using this visualization and comparisson <br>\n",
    "Then we split our data into train and test sets for the LSTM (Long short-term memory) recurrent neural network (RNN). <br>\n",
    "Now we will pick the parameters for training the model <br>\n",
    "then we test our model using our test_set <br>\n",
    "Then we will visualize our models predictions <br>\n",
    "Now we calculate our margin of error using MSE (Mean Squared Error) <br>\n",
    "At last we will conclude on our research and maybe a short reflection over our results and the project <br>\n"
   ],
   "cell_type": "markdown",
   "metadata": {}
  },
  {
   "source": [
    "## 2?(4) Export your solution in a file and upload it to your git repository\n",
    "The python notebook we made can be found in the folder \"pre_processing\" file:\"elt.ipynb\""
   ],
   "cell_type": "markdown",
   "metadata": {}
  }
 ]
}